{
 "cells": [
  {
   "cell_type": "markdown",
   "id": "79ec158d",
   "metadata": {},
   "source": [
    "# Тема: \"Основы клиент-серверного взаимодействия. Работа с API\""
   ]
  },
  {
   "cell_type": "markdown",
   "id": "b07ddf9a",
   "metadata": {},
   "source": [
    "### Задание 1\n",
    "\n",
    "Посмотреть документацию к API GitHub, разобраться как вывести список репозиториев для конкретного пользователя, сохранить JSON-вывод в файле ***.json.**"
   ]
  },
  {
   "cell_type": "markdown",
   "id": "a669db79",
   "metadata": {},
   "source": [
    "#### Ответ:"
   ]
  },
  {
   "cell_type": "code",
   "execution_count": 1,
   "id": "eb8cbabb",
   "metadata": {},
   "outputs": [],
   "source": [
    "# Импортируем нужные библиотеки:\n",
    "import requests\n",
    "import json"
   ]
  },
  {
   "cell_type": "code",
   "execution_count": 2,
   "id": "82cab095",
   "metadata": {},
   "outputs": [],
   "source": [
    "# Ссылка на GitHub API:\n",
    "url = 'https://api.github.com'"
   ]
  },
  {
   "cell_type": "code",
   "execution_count": 3,
   "id": "d7555f80",
   "metadata": {},
   "outputs": [],
   "source": [
    "# Ник пользователя GitHub, чьи репозитории будем выводить:\n",
    "user = 'InSightHF'"
   ]
  },
  {
   "cell_type": "code",
   "execution_count": 4,
   "id": "89f31437",
   "metadata": {},
   "outputs": [],
   "source": [
    "# GET запрос:\n",
    "r = requests.get(f'{url}/users/{user}/repos')"
   ]
  },
  {
   "cell_type": "code",
   "execution_count": 5,
   "id": "9b1959fa",
   "metadata": {},
   "outputs": [],
   "source": [
    "# Запись полученой информации в файл .json:\n",
    "with open(user + '_repos.json', 'w', encoding = 'utf-8') as f:\n",
    "    json.dump(r.json(), f)"
   ]
  },
  {
   "cell_type": "code",
   "execution_count": 6,
   "id": "db2c902a",
   "metadata": {},
   "outputs": [
    {
     "name": "stdout",
     "output_type": "stream",
     "text": [
      "Список репозиториев пользователя:\n",
      "\n",
      "Basics_Python_GB\n",
      "GB1\n",
      "GB4\n",
      "Libraries_Python\n",
      "project\n",
      "Python_GB\n",
      "Repo-github\n"
     ]
    }
   ],
   "source": [
    "# Вывод названий репозиториев:\n",
    "print('Список репозиториев пользователя:\\n')\n",
    "for i in r.json():\n",
    "    print(i['name'])"
   ]
  },
  {
   "cell_type": "markdown",
   "id": "94802327",
   "metadata": {},
   "source": [
    "### Задание 2\n",
    "\n",
    "Изучить список открытых API (https://www.programmableweb.com/category/all/apis). Найти среди них любое, требующее авторизацию (любого типа). Выполнить запросы к нему, пройдя авторизацию. Ответ сервера записать в файл.\n",
    "\n",
    "Если нет желания заморачиваться с поиском, возьмите API вконтакте (https://vk.com/dev/first_guide). Сделайте запрос, чтобы получить список всех сообществ на которые вы подписаны."
   ]
  },
  {
   "cell_type": "markdown",
   "id": "a74a2e44",
   "metadata": {},
   "source": [
    "#### Ответ:"
   ]
  },
  {
   "cell_type": "code",
   "execution_count": null,
   "id": "22b99712",
   "metadata": {},
   "outputs": [],
   "source": [
    "# Идентификатор пользователя \"В контакте\":\n",
    "app_id = input('Введите ID пользователя:\\n\\n')"
   ]
  },
  {
   "cell_type": "code",
   "execution_count": null,
   "id": "5323ca47",
   "metadata": {},
   "outputs": [],
   "source": [
    "# Ссылка на метод groups API vk.com:\n",
    "url = 'https://api.vk.com/method/groups.get'\n",
    "vk_version = '5.131'"
   ]
  },
  {
   "cell_type": "code",
   "execution_count": null,
   "id": "dd968879",
   "metadata": {},
   "outputs": [],
   "source": [
    "# Токен доступа пользователя:\n",
    "access_token = input('Введите токен доступа пользователя:\\n\\n')"
   ]
  },
  {
   "cell_type": "code",
   "execution_count": null,
   "id": "21985756",
   "metadata": {},
   "outputs": [],
   "source": [
    "# GET запрос на vk.com:\n",
    "response = requests.get(f'{url}?access_token={access_token}&v={vk_version}')\n",
    "response = response.json()\n",
    "print('Список номеров сообществ, на которые подписан пользователь:\\n\\n', response)"
   ]
  },
  {
   "cell_type": "code",
   "execution_count": null,
   "id": "60e812c8",
   "metadata": {},
   "outputs": [],
   "source": [
    "# Запись полученой информации в файл .json:\n",
    "with open(str(app_id) + '_groups.json', 'w', encoding = 'utf-8') as f:\n",
    "    json.dump(response, f)"
   ]
  },
  {
   "cell_type": "markdown",
   "id": "1ae3047e",
   "metadata": {},
   "source": [
    "---\n",
    "\n",
    "END"
   ]
  }
 ],
 "metadata": {
  "kernelspec": {
   "display_name": "Python 3 (ipykernel)",
   "language": "python",
   "name": "python3"
  },
  "language_info": {
   "codemirror_mode": {
    "name": "ipython",
    "version": 3
   },
   "file_extension": ".py",
   "mimetype": "text/x-python",
   "name": "python",
   "nbconvert_exporter": "python",
   "pygments_lexer": "ipython3",
   "version": "3.9.12"
  }
 },
 "nbformat": 4,
 "nbformat_minor": 5
}
